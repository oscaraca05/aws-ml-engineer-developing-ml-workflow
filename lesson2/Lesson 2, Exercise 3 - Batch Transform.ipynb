{
 "cells": [
  {
   "cell_type": "markdown",
   "id": "760fe697",
   "metadata": {},
   "source": [
    "# UDACITY SageMaker Essentials: Batch Transform"
   ]
  },
  {
   "cell_type": "markdown",
   "id": "4d7d6b22",
   "metadata": {},
   "source": [
    "In the last exercise, we asked you to reflect on the disadvantages of having to perform preprocessing on a local machine. In addition to those disadvantages, such as user error and hardware limitations, you may have also encountered another frustration in submitting a large amount of data to an endpoint. There may be network limitations on your end, there may be security/privacy concerns, and there might be an obvious performance advantage in parallelism that may be difficult to implement. "
   ]
  },
  {
   "cell_type": "markdown",
   "id": "33e96cb1",
   "metadata": {},
   "source": [
    "Batch transform essentially addresses all of these issues. The primary use case for this is to make an inference on a dataset rather than making many individual calls to an endpoint. AWS SageMaker, similar to other tools that we encountered, does the heavy implementation lifting of reading data and splitting the burden among instances. All that's required of us is to give batch transform the correct directions to the data we want to submit. "
   ]
  },
  {
   "cell_type": "markdown",
   "id": "69cb6319",
   "metadata": {},
   "source": [
    "Alas, this dataset is unfortunately not quite in the correct format to be properly digested by batch transform. Although this tool is capable of digesting lists of json objects, it is not capable of the processing operations that we would ideally perform on it. So, yet again, we must preprocess data. "
   ]
  },
  {
   "cell_type": "markdown",
   "id": "8060fe1a",
   "metadata": {},
   "source": [
    "## Exercise: Preprocess (again, again) and upload to S3"
   ]
  },
  {
   "cell_type": "markdown",
   "id": "bcd6a7ad",
   "metadata": {},
   "source": [
    "The cell below provides you two functions. The `split_sentences` preprocesses the reviews and you should be very familiar with function. Remember that the BlazingText expects a input with JSON format, the `cycle_data` formats the review to the following: {'source': 'THIS IS A SAMPLE SENTENCE'} and writes it into a file.\n",
    "\n",
    "Using the cell to complete the following tasks:\n",
    "* preprecessing reviews_Musical_Instruments_5.json \n",
    "* upload the file consisting of the data to s3"
   ]
  },
  {
   "cell_type": "code",
   "execution_count": 5,
   "id": "d05139e0",
   "metadata": {},
   "outputs": [
    {
     "name": "stdout",
     "output_type": "stream",
     "text": [
      "s3://sagemaker-essentials-bucket/l2e3_batch_transform/l2e3_batch_transform_input_data.txt\n"
     ]
    }
   ],
   "source": [
    "import boto3\n",
    "import json\n",
    "import os\n",
    "\n",
    "# Todo: Input the s3 bucket\n",
    "s3_bucket = \"sagemaker-essentials-bucket\"\n",
    "\n",
    "# Todo: Input the s3 prefix\n",
    "s3_prefix = \"l2e3_batch_transform\"\n",
    "\n",
    "# Todo: Input the the file to write the data to\n",
    "file_name = \"l2e3_batch_transform_input_data.txt\"\n",
    "\n",
    "\n",
    "def split_sentences(input_data):\n",
    "    split_sentences = []\n",
    "    for l in open(input_data, 'r'):\n",
    "        l_object = json.loads(l)\n",
    "        helpful_votes = float(l_object['helpful'][0])\n",
    "        total_votes = l_object['helpful'][1]\n",
    "        if total_votes != 0 and helpful_votes/total_votes != .5:  # Filter out same data as prior jobs. \n",
    "            reviewText = l_object['reviewText']\n",
    "            sentences = reviewText.split(\".\") \n",
    "            for s in sentences:\n",
    "                if s: # Make sure sentences isn't empty. Common w/ \"...\"\n",
    "                    split_sentences.append(s)\n",
    "    return split_sentences\n",
    "\n",
    "# Format the data as {'source': 'THIS IS A SAMPLE SENTENCE'}\n",
    "# And write the data into a file\n",
    "def cycle_data(fp, data):\n",
    "    for d in data:\n",
    "        fp.write(json.dumps({'source':d}) + '\\n')\n",
    "\n",
    "# Todo: write a function to upload the data to s3\n",
    "def upload_file_to_s3(file_name, s3_prefix):\n",
    "    object_name = os.path.join(s3_prefix, file_name)\n",
    "    s3_client = boto3.client('s3')\n",
    "    try:\n",
    "        response = s3_client.upload_file(file_name, s3_bucket, object_name)\n",
    "    except ClientError as e:\n",
    "        logging.error(e)\n",
    "        return False\n",
    "\n",
    "# Todo: preprocess reviews_Musical_Instruments_5.json \n",
    "sentences = split_sentences('reviews_Musical_Instruments_5.json')\n",
    "\n",
    "# Write data to a file and upload it to s3.\n",
    "with open(file_name, 'w') as f:\n",
    "    cycle_data(f, sentences)\n",
    "\n",
    "upload_file_to_s3(file_name, s3_prefix)\n",
    "\n",
    "# Get the s3 path for the data\n",
    "batch_transform_input_path = \"s3://\" + \"/\".join([s3_bucket, s3_prefix, file_name])\n",
    "\n",
    "print(batch_transform_input_path)"
   ]
  },
  {
   "cell_type": "markdown",
   "id": "731586f6",
   "metadata": {},
   "source": [
    "## Exercise: Use Batch Transform to perform an inference on the dataset"
   ]
  },
  {
   "cell_type": "markdown",
   "id": "5afd4e09",
   "metadata": {},
   "source": [
    "We utilize batch transform through a transformer object. Similar to how we initialized a predictor object in the last exercise, complete the code below to initialize a transformer object and launch a transform job.   \n",
    "\n",
    "You will need the following:\n",
    "\n",
    "* Similar to last exercise, you will need to get a BlazingText image uri from AWS. The methodology you use to do so should be identical to the last exercise.  \n",
    "* You will need to instantiate a \"model\" object.\n",
    "* You will need to call the \"transformer\" method on the model object to create a transformer. Use 1 instance of ml.m4.xlarge. \n",
    "* You will need to use this transformer on the data we uploaded to s3. You will be able to do so by inserting an \"S3Prefix\" data_type and a \"application/jsonlines\" content_type, split by \"Line\".\n",
    "\n",
    "Consult the following documentation: https://sagemaker.readthedocs.io/en/stable/api/inference/transformer.html\n",
    "\n",
    "End-to-end, this process should take about 5 minutes on the whole dataset. While developing, consider uploading a subset of the data to s3, and evaluate on that instead. \n"
   ]
  },
  {
   "cell_type": "code",
   "execution_count": 6,
   "id": "345166d0",
   "metadata": {},
   "outputs": [
    {
     "name": "stdout",
     "output_type": "stream",
     "text": [
      ".............................................\n",
      "\u001b[34mArguments: serve\u001b[0m\n",
      "\u001b[34m[09/04/2022 17:07:25 INFO 140613122668352] Finding and loading model\u001b[0m\n",
      "\u001b[34m[09/04/2022 17:07:25 INFO 140613122668352] Trying to load model from /opt/ml/model/model.bin\u001b[0m\n",
      "\u001b[34m[09/04/2022 17:07:26 INFO 140613122668352] Number of server workers: 4\u001b[0m\n",
      "\u001b[35mArguments: serve\u001b[0m\n",
      "\u001b[35m[09/04/2022 17:07:25 INFO 140613122668352] Finding and loading model\u001b[0m\n",
      "\u001b[35m[09/04/2022 17:07:25 INFO 140613122668352] Trying to load model from /opt/ml/model/model.bin\u001b[0m\n",
      "\u001b[35m[09/04/2022 17:07:26 INFO 140613122668352] Number of server workers: 4\u001b[0m\n",
      "\u001b[34m[2022-09-04 17:07:26 +0000] [1] [INFO] Starting gunicorn 19.7.1\u001b[0m\n",
      "\u001b[34m[2022-09-04 17:07:26 +0000] [1] [INFO] Listening at: http://0.0.0.0:8080 (1)\u001b[0m\n",
      "\u001b[34m[2022-09-04 17:07:26 +0000] [1] [INFO] Using worker: sync\u001b[0m\n",
      "\u001b[34m[2022-09-04 17:07:26 +0000] [34] [INFO] Booting worker with pid: 34\u001b[0m\n",
      "\u001b[34m[2022-09-04 17:07:26 +0000] [35] [INFO] Booting worker with pid: 35\u001b[0m\n",
      "\u001b[34m[2022-09-04 17:07:26 +0000] [36] [INFO] Booting worker with pid: 36\u001b[0m\n",
      "\u001b[34m[2022-09-04 17:07:26 +0000] [37] [INFO] Booting worker with pid: 37\u001b[0m\n",
      "\u001b[35m[2022-09-04 17:07:26 +0000] [1] [INFO] Starting gunicorn 19.7.1\u001b[0m\n",
      "\u001b[35m[2022-09-04 17:07:26 +0000] [1] [INFO] Listening at: http://0.0.0.0:8080 (1)\u001b[0m\n",
      "\u001b[35m[2022-09-04 17:07:26 +0000] [1] [INFO] Using worker: sync\u001b[0m\n",
      "\u001b[35m[2022-09-04 17:07:26 +0000] [34] [INFO] Booting worker with pid: 34\u001b[0m\n",
      "\u001b[35m[2022-09-04 17:07:26 +0000] [35] [INFO] Booting worker with pid: 35\u001b[0m\n",
      "\u001b[35m[2022-09-04 17:07:26 +0000] [36] [INFO] Booting worker with pid: 36\u001b[0m\n",
      "\u001b[35m[2022-09-04 17:07:26 +0000] [37] [INFO] Booting worker with pid: 37\u001b[0m\n",
      "\u001b[32m2022-09-04T17:07:29.634:[sagemaker logs]: MaxConcurrentTransforms=4, MaxPayloadInMB=6, BatchStrategy=MULTI_RECORD\u001b[0m\n",
      "\u001b[34mArguments: serve\u001b[0m\n",
      "\u001b[34m[09/04/2022 17:07:25 INFO 140613122668352] Finding and loading model\u001b[0m\n",
      "\u001b[34m[09/04/2022 17:07:25 INFO 140613122668352] Trying to load model from /opt/ml/model/model.bin\u001b[0m\n",
      "\u001b[34m[09/04/2022 17:07:26 INFO 140613122668352] Number of server workers: 4\u001b[0m\n",
      "\u001b[35mArguments: serve\u001b[0m\n",
      "\u001b[35m[09/04/2022 17:07:25 INFO 140613122668352] Finding and loading model\u001b[0m\n",
      "\u001b[35m[09/04/2022 17:07:25 INFO 140613122668352] Trying to load model from /opt/ml/model/model.bin\u001b[0m\n",
      "\u001b[35m[09/04/2022 17:07:26 INFO 140613122668352] Number of server workers: 4\u001b[0m\n",
      "\u001b[34m[2022-09-04 17:07:26 +0000] [1] [INFO] Starting gunicorn 19.7.1\u001b[0m\n",
      "\u001b[34m[2022-09-04 17:07:26 +0000] [1] [INFO] Listening at: http://0.0.0.0:8080 (1)\u001b[0m\n",
      "\u001b[34m[2022-09-04 17:07:26 +0000] [1] [INFO] Using worker: sync\u001b[0m\n",
      "\u001b[34m[2022-09-04 17:07:26 +0000] [34] [INFO] Booting worker with pid: 34\u001b[0m\n",
      "\u001b[34m[2022-09-04 17:07:26 +0000] [35] [INFO] Booting worker with pid: 35\u001b[0m\n",
      "\u001b[34m[2022-09-04 17:07:26 +0000] [36] [INFO] Booting worker with pid: 36\u001b[0m\n",
      "\u001b[34m[2022-09-04 17:07:26 +0000] [37] [INFO] Booting worker with pid: 37\u001b[0m\n",
      "\u001b[35m[2022-09-04 17:07:26 +0000] [1] [INFO] Starting gunicorn 19.7.1\u001b[0m\n",
      "\u001b[35m[2022-09-04 17:07:26 +0000] [1] [INFO] Listening at: http://0.0.0.0:8080 (1)\u001b[0m\n",
      "\u001b[35m[2022-09-04 17:07:26 +0000] [1] [INFO] Using worker: sync\u001b[0m\n",
      "\u001b[35m[2022-09-04 17:07:26 +0000] [34] [INFO] Booting worker with pid: 34\u001b[0m\n",
      "\u001b[35m[2022-09-04 17:07:26 +0000] [35] [INFO] Booting worker with pid: 35\u001b[0m\n",
      "\u001b[35m[2022-09-04 17:07:26 +0000] [36] [INFO] Booting worker with pid: 36\u001b[0m\n",
      "\u001b[35m[2022-09-04 17:07:26 +0000] [37] [INFO] Booting worker with pid: 37\u001b[0m\n",
      "\u001b[32m2022-09-04T17:07:29.634:[sagemaker logs]: MaxConcurrentTransforms=4, MaxPayloadInMB=6, BatchStrategy=MULTI_RECORD\u001b[0m\n"
     ]
    }
   ],
   "source": [
    "from sagemaker import get_execution_role\n",
    "from sagemaker.model import Model\n",
    "from sagemaker import image_uris\n",
    "\n",
    "# Get the execution role\n",
    "\n",
    "role = get_execution_role()\n",
    "\n",
    "# Get the image uri using the \"blazingtext\" algorithm in your region. \n",
    "\n",
    "image_uri = image_uris.retrieve(framework='blazingtext',region='us-east-1')\n",
    "\n",
    "# Get the model artifact from S3\n",
    "\n",
    "model_data = 's3://sagemaker-essentials-bucket/lesson2_e1_training_jobs/output_attempt1/lesson2-exercise1-blazingtext-attempt1/output/model.tar.gz'\n",
    "\n",
    "# Get the s3 path for the batch transform data\n",
    "\n",
    "batch_transform_output_path = 's3://sagemaker-essentials-bucket/l2e3_batch_transform/output/'\n",
    "\n",
    "# Define a model object\n",
    "\n",
    "model = Model(image_uri, model_data, role)\n",
    "\n",
    "# Define a transformer object, using a single instance ml.m4.xlarge. Specify an output path to your s3 bucket. \n",
    "\n",
    "transformer = model.transformer(\n",
    "    instance_count=1, \n",
    "    instance_type='ml.m4.xlarge', \n",
    "    output_path=batch_transform_output_path)\n",
    "\n",
    "# Call the transform method. Set content_type='application/jsonlines', split_type='Line'\n",
    "\n",
    "transformer.transform(\n",
    "    data='s3://sagemaker-essentials-bucket/l2e3_batch_transform/l2e3_batch_transform_input_data.txt', \n",
    "    data_type='S3Prefix',\n",
    "    content_type='application/jsonlines', \n",
    "    split_type='Line'\n",
    ")\n",
    "\n",
    "transformer.wait()\n"
   ]
  },
  {
   "cell_type": "code",
   "execution_count": 47,
   "id": "ba63cc99-55f2-4fec-818b-193912b8900c",
   "metadata": {},
   "outputs": [
    {
     "data": {
      "text/html": [
       "<div>\n",
       "<style scoped>\n",
       "    .dataframe tbody tr th:only-of-type {\n",
       "        vertical-align: middle;\n",
       "    }\n",
       "\n",
       "    .dataframe tbody tr th {\n",
       "        vertical-align: top;\n",
       "    }\n",
       "\n",
       "    .dataframe thead th {\n",
       "        text-align: right;\n",
       "    }\n",
       "</style>\n",
       "<table border=\"1\" class=\"dataframe\">\n",
       "  <thead>\n",
       "    <tr style=\"text-align: right;\">\n",
       "      <th></th>\n",
       "      <th>label</th>\n",
       "      <th>prob</th>\n",
       "    </tr>\n",
       "  </thead>\n",
       "  <tbody>\n",
       "    <tr>\n",
       "      <th>0</th>\n",
       "      <td>__label__1</td>\n",
       "      <td>[0.9182055592536926]</td>\n",
       "    </tr>\n",
       "    <tr>\n",
       "      <th>1</th>\n",
       "      <td>__label__1</td>\n",
       "      <td>[0.8547850847244263]</td>\n",
       "    </tr>\n",
       "    <tr>\n",
       "      <th>2</th>\n",
       "      <td>__label__1</td>\n",
       "      <td>[0.9062636494636536]</td>\n",
       "    </tr>\n",
       "    <tr>\n",
       "      <th>3</th>\n",
       "      <td>__label__1</td>\n",
       "      <td>[0.8412784337997437]</td>\n",
       "    </tr>\n",
       "    <tr>\n",
       "      <th>4</th>\n",
       "      <td>__label__1</td>\n",
       "      <td>[0.9336633086204529]</td>\n",
       "    </tr>\n",
       "    <tr>\n",
       "      <th>...</th>\n",
       "      <td>...</td>\n",
       "      <td>...</td>\n",
       "    </tr>\n",
       "    <tr>\n",
       "      <th>27017</th>\n",
       "      <td>__label__1</td>\n",
       "      <td>[0.9091715216636658]</td>\n",
       "    </tr>\n",
       "    <tr>\n",
       "      <th>27018</th>\n",
       "      <td>__label__1</td>\n",
       "      <td>[0.9528324604034424]</td>\n",
       "    </tr>\n",
       "    <tr>\n",
       "      <th>27019</th>\n",
       "      <td>__label__1</td>\n",
       "      <td>[0.8852442502975464]</td>\n",
       "    </tr>\n",
       "    <tr>\n",
       "      <th>27020</th>\n",
       "      <td>__label__1</td>\n",
       "      <td>[0.8858001232147217]</td>\n",
       "    </tr>\n",
       "    <tr>\n",
       "      <th>27021</th>\n",
       "      <td>__label__2</td>\n",
       "      <td>[0.851555585861206]</td>\n",
       "    </tr>\n",
       "  </tbody>\n",
       "</table>\n",
       "<p>27022 rows × 2 columns</p>\n",
       "</div>"
      ],
      "text/plain": [
       "            label                  prob\n",
       "0      __label__1  [0.9182055592536926]\n",
       "1      __label__1  [0.8547850847244263]\n",
       "2      __label__1  [0.9062636494636536]\n",
       "3      __label__1  [0.8412784337997437]\n",
       "4      __label__1  [0.9336633086204529]\n",
       "...           ...                   ...\n",
       "27017  __label__1  [0.9091715216636658]\n",
       "27018  __label__1  [0.9528324604034424]\n",
       "27019  __label__1  [0.8852442502975464]\n",
       "27020  __label__1  [0.8858001232147217]\n",
       "27021  __label__2   [0.851555585861206]\n",
       "\n",
       "[27022 rows x 2 columns]"
      ]
     },
     "execution_count": 47,
     "metadata": {},
     "output_type": "execute_result"
    }
   ],
   "source": [
    "# Todo: write a function to load the data to s3\n",
    "import boto3\n",
    "import json\n",
    "import pandas as pd\n",
    "\n",
    "s3_obj =boto3.client('s3')\n",
    "\n",
    "s3_clientobj = s3_obj.get_object(Bucket=s3_bucket, Key='l2e3_batch_transform/output/l2e3_batch_transform_input_data.txt.out')\n",
    "s3_clientdata = s3_clientobj['Body'].read().decode('utf-8')\n",
    "json_content = [json.loads(line) for line in s3_clientdata.splitlines()]\n",
    "# s3_clientdata = [json.loads(x) for x in s3_clientdata]\n",
    "json_content\n",
    "df_labels = pd.DataFrame(json_content)\n",
    "df_labels['label'] = [x[0] for x in df_labels['label']]\n",
    "df_labels"
   ]
  },
  {
   "cell_type": "markdown",
   "id": "48ae56b5",
   "metadata": {},
   "source": [
    "## Exercise: Sanity Check - Are Results the Same? "
   ]
  },
  {
   "cell_type": "code",
   "execution_count": 54,
   "id": "70f16614-4894-457e-b73b-59d82ea724c9",
   "metadata": {},
   "outputs": [
    {
     "data": {
      "text/plain": [
       "((27022, 3), 27022)"
      ]
     },
     "execution_count": 54,
     "metadata": {},
     "output_type": "execute_result"
    }
   ],
   "source": [
    "df_l2e2 = pd.read_csv('l2e2_output_labels.csv')\n",
    "# df_l2e2\n",
    "df_labels['label_l2e2'] = df_l2e2['label']\n",
    "df_labels.shape, sum(df_labels['label']==df_labels['label_l2e2'])"
   ]
  },
  {
   "cell_type": "markdown",
   "id": "a59c67b1",
   "metadata": {},
   "source": [
    "The results of the inference should be printed to the s3 path specified in batch_transform_output_path. We have evaluated the same data on the same model, so if all is done correctly on both exercises, the inferences should be the same. Compare the first five or so inferences on the last exercise and on this exercise to confirm this. "
   ]
  }
 ],
 "metadata": {
  "instance_type": "ml.t3.medium",
  "kernelspec": {
   "display_name": "Python 3 (Data Science)",
   "language": "python",
   "name": "python3__SAGEMAKER_INTERNAL__arn:aws:sagemaker:us-east-1:081325390199:image/datascience-1.0"
  },
  "language_info": {
   "codemirror_mode": {
    "name": "ipython",
    "version": 3
   },
   "file_extension": ".py",
   "mimetype": "text/x-python",
   "name": "python",
   "nbconvert_exporter": "python",
   "pygments_lexer": "ipython3",
   "version": "3.7.10"
  }
 },
 "nbformat": 4,
 "nbformat_minor": 5
}
